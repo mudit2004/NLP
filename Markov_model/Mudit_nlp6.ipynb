{
 "cells": [
  {
   "cell_type": "markdown",
   "id": "72b5b8d6",
   "metadata": {},
   "source": [
    "LAB - 5\n",
    "27.09.23"
   ]
  },
  {
   "cell_type": "code",
   "execution_count": 13,
   "id": "f4d2ef01",
   "metadata": {},
   "outputs": [
    {
     "name": "stdout",
     "output_type": "stream",
     "text": [
      "X X X X X X X X X X X X Y Z Z Z Z Z Z Z Z Z Z Z Z Z Z Z Z Z "
     ]
    }
   ],
   "source": [
    "#Forwading\n",
    "import random\n",
    "transition_matrix = {\n",
    "    'X': {'X':0.8,'Y':0.2},\n",
    "    'Y': {'Y':0.2,'Z':0.8},\n",
    "    'Z': {'Y':0.2,'Z':1},\n",
    "    'A':{'X':0.6,'Y':0.1,\"Z\":0.5},\n",
    "    'B':{'X':0.2,'Y':0.1,\"Z\":0.2},\n",
    "    'C':{'X':0.2,'Y':0.8,\"Z\":0.3}\n",
    "}\n",
    "\n",
    "# Initial state\n",
    "current_state = 'X'\n",
    "\n",
    "# Number of steps to simulate\n",
    "num_steps = 30\n",
    "\n",
    "# Simulate the Markov chain\n",
    "for _ in range(num_steps):\n",
    "    print(current_state, end=' ')\n",
    "    next_state = random.choices(list(transition_matrix[current_state].keys()), list(transition_matrix[current_state].values()))[0]\n",
    "    current_state = next_state"
   ]
  },
  {
   "cell_type": "code",
   "execution_count": 14,
   "id": "6a46b9db",
   "metadata": {},
   "outputs": [
    {
     "name": "stdout",
     "output_type": "stream",
     "text": [
      "X X X Y Z Z Z Z Z Z Z Z Z Z Z Z Z Y Z Y Z Y Z Z Z Z Y Y Z Z "
     ]
    }
   ],
   "source": [
    "#backward\n",
    "import random\n",
    "\n",
    "# Define the states and reverse transition probabilities (input-independent)\n",
    "reverse_transition_matrix = {\n",
    "    'X': {'X':0.8,'Y':0.2},\n",
    "    'Y': {'Y':0.2,'Z':0.8},\n",
    "    'Z': {'Y':0.2,'Z':1},\n",
    "    'A':{'X':0.6,'Y':0.1,\"Z\":0.5},\n",
    "    'B':{'X':0.2,'Y':0.1,\"Z\":0.2},\n",
    "    'C':{'X':0.2,'Y':0.8,\"Z\":0.3}\n",
    "}\n",
    "\n",
    "# Initial state\n",
    "current_state = 'X'\n",
    "\n",
    "# Number of steps to simulate\n",
    "num_steps = 30\n",
    "\n",
    "# Simulate the backward Markov chain\n",
    "for _ in range(num_steps):\n",
    "    print(current_state, end=' ')\n",
    "    next_state = random.choices(list(reverse_transition_matrix[current_state].keys()),list(reverse_transition_matrix[current_state].values()))[0]\n",
    "    current_state = next_state\n"
   ]
  },
  {
   "cell_type": "code",
   "execution_count": null,
   "id": "ae8a3de4",
   "metadata": {},
   "outputs": [],
   "source": []
  }
 ],
 "metadata": {
  "kernelspec": {
   "display_name": "Python 3",
   "language": "python",
   "name": "python3"
  },
  "language_info": {
   "codemirror_mode": {
    "name": "ipython",
    "version": 3
   },
   "file_extension": ".py",
   "mimetype": "text/x-python",
   "name": "python",
   "nbconvert_exporter": "python",
   "pygments_lexer": "ipython3",
   "version": "3.8.8"
  }
 },
 "nbformat": 4,
 "nbformat_minor": 5
}
