{
 "cells": [
  {
   "cell_type": "markdown",
   "id": "57dea145",
   "metadata": {},
   "source": [
    "NLP LAB \n",
    "25.10.23"
   ]
  },
  {
   "cell_type": "code",
   "execution_count": 68,
   "id": "e1835a13",
   "metadata": {},
   "outputs": [],
   "source": [
    "import nltk\n",
    "from nltk.tokenize import word_tokenize\n",
    "import string"
   ]
  },
  {
   "cell_type": "code",
   "execution_count": 69,
   "id": "c1e2137c",
   "metadata": {},
   "outputs": [],
   "source": [
    "text= 'Introduction Nature, in all its splendor, is an ever-inspiring force. From the lush green forests to the serene blue oceans, from the breathtaking landscapes to the intricate ecosystems, nature is a boundless source of wonder and beauty. In this blog, well delve into the mesmerizing world of nature, exploring its importance, its impact on our well-being, and the need to protect and preserve it. The Wonders of Biodiversity One of the most captivating aspects of nature is its incredible biodiversity. Its a mosaic of life forms, from the tiniest microorganisms to the grandest mammals. The variety of species and ecosystems found on Earth is mind-boggling, and each has a unique role to play in the intricate web of life. Whether its the vibrant hues of a coral reef, the grace of a deer in the woods, or the symphony of birdsong at dawn, natures diversity is a constant source of wonder. The Healing Power of Nature Nature has an exceptional ability to soothe our souls and heal our minds. Numerous studies have shown that spending time in natural environments reduces stress, anxiety, and depression. The sight of green trees, the sound of flowing water, and the smell of fresh earth all contribute to a sense of calm and well-being. This therapeutic quality of nature is why \"forest bathing\" has gained popularity as a form of stress relief and mindfulness practice. Our Connection with Nature We, as humans, have an inherent connection with nature, one that goes back to our earliest ancestors. Its no wonder that many ancient cultures revered the natural world and integrated it into their belief systems. Today, this connection is as strong as ever, though often overshadowed by our fast-paced, urbanized lifestyles. Yet, when we take a step back and truly connect with nature, we find ourselves revitalized and reminded of our place in this grand tapestry of life. The Need for Conservation Despite the abundant beauty and benefits of nature, it is under constant threat. Human activities, such as deforestation, pollution, and climate change, are jeopardizing the delicate balance of our ecosystems. Its crucial that we recognize the urgent need to protect and conserve the natural world. Efforts like reforestation, wildlife preservation, and sustainable practices are essential to ensuring the survival of our planets diverse species and ecosystems. The Importance of Responsible Tourism Tourism can be a double-edged sword when it comes to nature. While it allows people to appreciate and connect with the beauty of natural environments, it can also harm them if not managed responsibly. Overcrowding, littering, and habitat destruction are some of the negative consequences of unchecked tourism. Therefore, its essential for travelers to embrace sustainable tourism practices, respecting the environment and local communities while enjoying the wonders of nature. Nature as a Source of Inspiration Creativity often finds its roots in nature. From the exquisite patterns found in a butterflys wings to the rhythm of waves crashing on the shore, nature has been a muse for artists, writers, and scientists for centuries. The wonders of the natural world inspire innovation, art, and the pursuit of knowledge. Moreover, nature provides a wellspring of metaphors and symbols that help us better understand and express the world around us. Conclusion Natures beauty and significance are immeasurable. It nurtures us, captivates us, and inspires us. As stewards of this planet, it is our responsibility to preserve and protect the natural world for future generations. By reconnecting with nature, embracing sustainable practices, and supporting conservation efforts, we can ensure that the splendors of nature continue to enchant and enrich our lives. In the end, its the incomparable beauty of nature that reminds us of our place in the grand scheme of things and our responsibility to protect it Introduction Nature, in all its splendor, is an ever-inspiring force. From the lush green forests to the serene blue oceans, from the breathtaking landscapes to the intricate ecosystems, nature is a boundless source of wonder and beauty. In this blog, well delve into the mesmerizing world of nature, exploring its importance, its impact on our well-being, and the need to protect and preserve it. The Wonders of Biodiversity One of the most captivating aspects of nature is its incredible biodiversity. Its a mosaic of life forms, from the tiniest microorganisms to the grandest mammals. The variety of species and ecosystems found on Earth is mind-boggling, and each has a unique role to play in the intricate web of life. Whether its the vibrant hues of a coral reef, the grace of a deer in the woods, or the symphony of birdsong at dawn, natures diversity is a constant source of wonder. The Healing Power of Nature Nature has an exceptional ability to soothe our souls and heal our minds. Numerous studies have shown that spending time in natural environments reduces stress, anxiety, and depression. The sight of green trees, the sound of flowing water, and the smell of fresh earth all contribute to a sense of calm and well-being. This therapeutic quality of nature is why \"forest bathing\" has gained popularity as a form of stress relief and mindfulness practice. Our Connection with Nature We, as humans, have an inherent connection with nature, one that goes back to our earliest ancestors. Its no wonder that many ancient cultures revered the natural world and integrated it into their belief systems. Today, this connection is as strong as ever, though often overshadowed by our fast-paced, urbanized lifestyles. Yet, when we take a step back and truly connect with nature, we find ourselves revitalized and reminded of our place in this grand tapestry of life. The Need for Conservation Despite the abundant beauty and benefits of nature, it is under constant threat. Human activities, such as deforestation, pollution, and climate change, are jeopardizing the delicate balance of our ecosystems. Its crucial that we recognize the urgent need to protect and conserve the natural world. Efforts like reforestation, wildlife preservation, and sustainable practices are essential to ensuring the survival of our planets diverse species and ecosystems. The Importance of Responsible Tourism Tourism can be a double-edged sword when it comes to nature. While it allows people to appreciate and connect with the beauty of natural environments, it can also harm them if not managed responsibly. Overcrowding, littering, and habitat destruction are some of the negative consequences of unchecked tourism. Therefore, its essential for travelers to embrace sustainable tourism practices, respecting the environment and local communities while enjoying the wonders of nature. Nature as a Source of Inspiration Creativity often finds its roots in nature. From the exquisite patterns found in a butterflys wings to the rhythm of waves crashing on the shore, nature has been a muse for artists, writers, and scientists for centuries. The wonders of the natural world inspire innovation, art, and the pursuit of knowledge. Moreover, nature provides a wellspring of metaphors and symbols that help us better understand and express the world around us. Conclusion Natures beauty and significance are immeasurable. It nurtures us, captivates us, and inspires us. As stewards of this planet, it is our responsibility to preserve and protect the natural world for future generations. By reconnecting with nature, embracing sustainable practices, and supporting conservation efforts, we can ensure that the splendors of nature continue to enchant and enrich our lives. In the end, its the incomparable beauty of nature that reminds us of our place in the grand scheme of things and our responsibility to protect it Introduction Nature, in all its splendor, is an ever-inspiring force. From the lush green forests to the serene blue oceans, from the breathtaking landscapes to the intricate ecosystems, nature is a boundless source of wonder and beauty. In this blog, well delve into the mesmerizing world of nature, exploring its importance, its impact on our well-being, and the need to protect and preserve it. The Wonders of Biodiversity One of the most captivating aspects of nature is its incredible biodiversity. Its a mosaic of life forms, from the tiniest microorganisms to the grandest mammals. The variety of species and ecosystems found on Earth is mind-boggling, and each has a unique role to play in the intricate web of life. Whether its the vibrant hues of a coral reef, the grace of a deer in the woods, or the symphony of birdsong at dawn, natures diversity is a constant source of wonder. The Healing Power of Nature Nature has an exceptional ability to soothe our souls and heal our minds. Numerous studies have shown that spending time in natural environments reduces stress, anxiety, and depression. The sight of green trees, the sound of flowing water, and the smell of fresh earth all contribute to a sense of calm and well-being. This therapeutic quality of nature is why \"forest bathing\" has gained popularity as a form of stress relief and mindfulness practice. Our Connection with Nature We, as humans, have an inherent connection with nature, one that goes back to our earliest ancestors. Its no wonder that many ancient cultures revered the natural world and integrated it into their belief systems. Today, this connection is as strong as ever, though often overshadowed by our fast-paced, urbanized lifestyles. Yet, when we take a step back and truly connect with nature, we find ourselves revitalized and reminded of our place in this grand tapestry of life. The Need for Conservation Despite the abundant beauty and benefits of nature, it is under constant threat. Human activities, such as deforestation, pollution, and climate change, are jeopardizing the delicate balance of our ecosystems. Its crucial that we recognize the urgent need to protect and conserve the natural world. Efforts like reforestation, wildlife preservation, and sustainable practices are essential to ensuring the survival of our planets diverse species and ecosystems. The Importance of Responsible Tourism Tourism can be a double-edged sword when it comes to nature. While it allows people to appreciate and connect with the beauty of natural environments, it can also harm them if not managed responsibly. Overcrowding, littering, and habitat destruction are some of the negative consequences of unchecked tourism. Therefore, its essential for travelers to embrace sustainable tourism practices, respecting the environment and local communities while enjoying the wonders of nature. Nature as a Source of Inspiration Creativity often finds its roots in nature. From the exquisite patterns found in a butterflys wings to the rhythm of waves crashing on the shore, nature has been a muse for artists, writers, and scientists for centuries. The wonders of the natural world inspire innovation, art, and the pursuit of knowledge. Moreover, nature provides a wellspring of metaphors and symbols that help us better understand and express the world around us. Conclusion Natures beauty and significance are immeasurable. It nurtures us, captivates us, and inspires us. As stewards of this planet, it is our responsibility to preserve and protect the natural world for future generations. By reconnecting with nature, embracing sustainable practices, and supporting conservation efforts, we can ensure that the splendors of nature continue to enchant and enrich our lives. In the end, its the incomparable beauty of nature that reminds us of our place in the grand scheme of things and our responsibility to protect it '"
   ]
  },
  {
   "cell_type": "code",
   "execution_count": 70,
   "id": "40e3779f",
   "metadata": {},
   "outputs": [
    {
     "name": "stdout",
     "output_type": "stream",
     "text": [
      "['introduction', 'nature', 'in', 'all', 'its', 'splendor', 'is', 'an', 'everinspiring', 'force', 'from', 'the', 'lush', 'green', 'forests', 'to', 'the', 'serene', 'blue', 'oceans', 'from', 'the', 'breathtaking', 'landscapes', 'to', 'the', 'intricate', 'ecosystems', 'nature', 'is', 'a', 'boundless', 'source', 'of', 'wonder', 'and', 'beauty', 'in', 'this', 'blog', 'well', 'delve', 'into', 'the', 'mesmerizing', 'world', 'of', 'nature', 'exploring', 'its', 'importance', 'its', 'impact', 'on', 'our', 'wellbeing', 'and', 'the', 'need', 'to', 'protect', 'and', 'preserve', 'it', 'the', 'wonders', 'of', 'biodiversity', 'one', 'of', 'the', 'most', 'captivating', 'aspects', 'of', 'nature', 'is', 'its', 'incredible', 'biodiversity', 'its', 'a', 'mosaic', 'of', 'life', 'forms', 'from', 'the', 'tiniest', 'microorganisms', 'to', 'the', 'grandest', 'mammals', 'the', 'variety', 'of', 'species', 'and', 'ecosystems', 'found', 'on', 'earth', 'is', 'mindboggling', 'and', 'each', 'has', 'a', 'unique', 'role', 'to', 'play', 'in', 'the', 'intricate', 'web', 'of', 'life', 'whether', 'its', 'the', 'vibrant', 'hues', 'of', 'a', 'coral', 'reef', 'the', 'grace', 'of', 'a', 'deer', 'in', 'the', 'woods', 'or', 'the', 'symphony', 'of', 'birdsong', 'at', 'dawn', 'natures', 'diversity', 'is', 'a', 'constant', 'source', 'of', 'wonder', 'the', 'healing', 'power', 'of', 'nature', 'nature', 'has', 'an', 'exceptional', 'ability', 'to', 'soothe', 'our', 'souls', 'and', 'heal', 'our', 'minds', 'numerous', 'studies', 'have', 'shown', 'that', 'spending', 'time', 'in', 'natural', 'environments', 'reduces', 'stress', 'anxiety', 'and', 'depression', 'the', 'sight', 'of', 'green', 'trees', 'the', 'sound', 'of', 'flowing', 'water', 'and', 'the', 'smell', 'of', 'fresh', 'earth', 'all', 'contribute', 'to', 'a', 'sense', 'of', 'calm', 'and', 'wellbeing', 'this', 'therapeutic', 'quality', 'of', 'nature', 'is', 'why', 'forest', 'bathing', 'has', 'gained', 'popularity', 'as', 'a', 'form', 'of', 'stress', 'relief', 'and', 'mindfulness', 'practice', 'our', 'connection', 'with', 'nature', 'we', 'as', 'humans', 'have', 'an', 'inherent', 'connection', 'with', 'nature', 'one', 'that', 'goes', 'back', 'to', 'our', 'earliest', 'ancestors', 'its', 'no', 'wonder', 'that', 'many', 'ancient', 'cultures', 'revered', 'the', 'natural', 'world', 'and', 'integrated', 'it', 'into', 'their', 'belief', 'systems', 'today', 'this', 'connection', 'is', 'as', 'strong', 'as', 'ever', 'though', 'often', 'overshadowed', 'by', 'our', 'fastpaced', 'urbanized', 'lifestyles', 'yet', 'when', 'we', 'take', 'a', 'step', 'back', 'and', 'truly', 'connect', 'with', 'nature', 'we', 'find', 'ourselves', 'revitalized', 'and', 'reminded', 'of', 'our', 'place', 'in', 'this', 'grand', 'tapestry', 'of', 'life', 'the', 'need', 'for', 'conservation', 'despite', 'the', 'abundant', 'beauty', 'and', 'benefits', 'of', 'nature', 'it', 'is', 'under', 'constant', 'threat', 'human', 'activities', 'such', 'as', 'deforestation', 'pollution', 'and', 'climate', 'change', 'are', 'jeopardizing', 'the', 'delicate', 'balance', 'of', 'our', 'ecosystems', 'its', 'crucial', 'that', 'we', 'recognize', 'the', 'urgent', 'need', 'to', 'protect', 'and', 'conserve', 'the', 'natural', 'world', 'efforts', 'like', 'reforestation', 'wildlife', 'preservation', 'and', 'sustainable', 'practices', 'are', 'essential', 'to', 'ensuring', 'the', 'survival', 'of', 'our', 'planets', 'diverse', 'species', 'and', 'ecosystems', 'the', 'importance', 'of', 'responsible', 'tourism', 'tourism', 'can', 'be', 'a', 'doubleedged', 'sword', 'when', 'it', 'comes', 'to', 'nature', 'while', 'it', 'allows', 'people', 'to', 'appreciate', 'and', 'connect', 'with', 'the', 'beauty', 'of', 'natural', 'environments', 'it', 'can', 'also', 'harm', 'them', 'if', 'not', 'managed', 'responsibly', 'overcrowding', 'littering', 'and', 'habitat', 'destruction', 'are', 'some', 'of', 'the', 'negative', 'consequences', 'of', 'unchecked', 'tourism', 'therefore', 'its', 'essential', 'for', 'travelers', 'to', 'embrace', 'sustainable', 'tourism', 'practices', 'respecting', 'the', 'environment', 'and', 'local', 'communities', 'while', 'enjoying', 'the', 'wonders', 'of', 'nature', 'nature', 'as', 'a', 'source', 'of', 'inspiration', 'creativity', 'often', 'finds', 'its', 'roots', 'in', 'nature', 'from', 'the', 'exquisite', 'patterns', 'found', 'in', 'a', 'butterflys', 'wings', 'to', 'the', 'rhythm', 'of', 'waves', 'crashing', 'on', 'the', 'shore', 'nature', 'has', 'been', 'a', 'muse', 'for', 'artists', 'writers', 'and', 'scientists', 'for', 'centuries', 'the', 'wonders', 'of', 'the', 'natural', 'world', 'inspire', 'innovation', 'art', 'and', 'the', 'pursuit', 'of', 'knowledge', 'moreover', 'nature', 'provides', 'a', 'wellspring', 'of', 'metaphors', 'and', 'symbols', 'that', 'help', 'us', 'better', 'understand', 'and', 'express', 'the', 'world', 'around', 'us', 'conclusion', 'natures', 'beauty', 'and', 'significance', 'are', 'immeasurable', 'it', 'nurtures', 'us', 'captivates', 'us', 'and', 'inspires', 'us', 'as', 'stewards', 'of', 'this', 'planet', 'it', 'is', 'our', 'responsibility', 'to', 'preserve', 'and', 'protect', 'the', 'natural', 'world', 'for', 'future', 'generations', 'by', 'reconnecting', 'with', 'nature', 'embracing', 'sustainable', 'practices', 'and', 'supporting', 'conservation', 'efforts', 'we', 'can', 'ensure', 'that', 'the', 'splendors', 'of', 'nature', 'continue', 'to', 'enchant', 'and', 'enrich', 'our', 'lives', 'in', 'the', 'end', 'its', 'the', 'incomparable', 'beauty', 'of', 'nature', 'that', 'reminds', 'us', 'of', 'our', 'place', 'in', 'the', 'grand', 'scheme', 'of', 'things', 'and', 'our', 'responsibility', 'to', 'protect', 'it', 'introduction', 'nature', 'in', 'all', 'its', 'splendor', 'is', 'an', 'everinspiring', 'force', 'from', 'the', 'lush', 'green', 'forests', 'to', 'the', 'serene', 'blue', 'oceans', 'from', 'the', 'breathtaking', 'landscapes', 'to', 'the', 'intricate', 'ecosystems', 'nature', 'is', 'a', 'boundless', 'source', 'of', 'wonder', 'and', 'beauty', 'in', 'this', 'blog', 'well', 'delve', 'into', 'the', 'mesmerizing', 'world', 'of', 'nature', 'exploring', 'its', 'importance', 'its', 'impact', 'on', 'our', 'wellbeing', 'and', 'the', 'need', 'to', 'protect', 'and', 'preserve', 'it', 'the', 'wonders', 'of', 'biodiversity', 'one', 'of', 'the', 'most', 'captivating', 'aspects', 'of', 'nature', 'is', 'its', 'incredible', 'biodiversity', 'its', 'a', 'mosaic', 'of', 'life', 'forms', 'from', 'the', 'tiniest', 'microorganisms', 'to', 'the', 'grandest', 'mammals', 'the', 'variety', 'of', 'species', 'and', 'ecosystems', 'found', 'on', 'earth', 'is', 'mindboggling', 'and', 'each', 'has', 'a', 'unique', 'role', 'to', 'play', 'in', 'the', 'intricate', 'web', 'of', 'life', 'whether', 'its', 'the', 'vibrant', 'hues', 'of', 'a', 'coral', 'reef', 'the', 'grace', 'of', 'a', 'deer', 'in', 'the', 'woods', 'or', 'the', 'symphony', 'of', 'birdsong', 'at', 'dawn', 'natures', 'diversity', 'is', 'a', 'constant', 'source', 'of', 'wonder', 'the', 'healing', 'power', 'of', 'nature', 'nature', 'has', 'an', 'exceptional', 'ability', 'to', 'soothe', 'our', 'souls', 'and', 'heal', 'our', 'minds', 'numerous', 'studies', 'have', 'shown', 'that', 'spending', 'time', 'in', 'natural', 'environments', 'reduces', 'stress', 'anxiety', 'and', 'depression', 'the', 'sight', 'of', 'green', 'trees', 'the', 'sound', 'of', 'flowing', 'water', 'and', 'the', 'smell', 'of', 'fresh', 'earth', 'all', 'contribute', 'to', 'a', 'sense', 'of', 'calm', 'and', 'wellbeing', 'this', 'therapeutic', 'quality', 'of', 'nature', 'is', 'why', 'forest', 'bathing', 'has', 'gained', 'popularity', 'as', 'a', 'form', 'of', 'stress', 'relief', 'and', 'mindfulness', 'practice', 'our', 'connection', 'with', 'nature', 'we', 'as', 'humans', 'have', 'an', 'inherent', 'connection', 'with', 'nature', 'one', 'that', 'goes', 'back', 'to', 'our', 'earliest', 'ancestors', 'its', 'no', 'wonder', 'that', 'many', 'ancient', 'cultures', 'revered', 'the', 'natural', 'world', 'and', 'integrated', 'it', 'into', 'their', 'belief', 'systems', 'today', 'this', 'connection', 'is', 'as', 'strong', 'as', 'ever', 'though', 'often', 'overshadowed', 'by', 'our', 'fastpaced', 'urbanized', 'lifestyles', 'yet', 'when', 'we', 'take', 'a', 'step', 'back', 'and', 'truly', 'connect', 'with', 'nature', 'we', 'find', 'ourselves', 'revitalized', 'and', 'reminded', 'of', 'our', 'place', 'in', 'this', 'grand', 'tapestry', 'of', 'life', 'the', 'need', 'for', 'conservation', 'despite', 'the', 'abundant', 'beauty', 'and', 'benefits', 'of', 'nature', 'it', 'is', 'under', 'constant', 'threat', 'human', 'activities', 'such', 'as', 'deforestation', 'pollution', 'and', 'climate', 'change', 'are', 'jeopardizing', 'the', 'delicate', 'balance', 'of', 'our', 'ecosystems', 'its', 'crucial', 'that', 'we', 'recognize', 'the', 'urgent', 'need', 'to', 'protect', 'and', 'conserve', 'the', 'natural', 'world', 'efforts', 'like', 'reforestation', 'wildlife', 'preservation', 'and', 'sustainable', 'practices', 'are', 'essential', 'to', 'ensuring', 'the', 'survival', 'of', 'our', 'planets', 'diverse', 'species', 'and', 'ecosystems', 'the', 'importance', 'of', 'responsible', 'tourism', 'tourism', 'can', 'be', 'a', 'doubleedged', 'sword', 'when', 'it', 'comes', 'to', 'nature', 'while', 'it', 'allows', 'people', 'to', 'appreciate', 'and', 'connect', 'with', 'the', 'beauty', 'of', 'natural', 'environments', 'it', 'can', 'also', 'harm', 'them', 'if', 'not', 'managed', 'responsibly', 'overcrowding', 'littering', 'and', 'habitat', 'destruction', 'are', 'some', 'of', 'the', 'negative', 'consequences', 'of', 'unchecked', 'tourism', 'therefore', 'its', 'essential', 'for', 'travelers', 'to', 'embrace', 'sustainable', 'tourism', 'practices', 'respecting', 'the', 'environment', 'and', 'local', 'communities', 'while', 'enjoying', 'the', 'wonders', 'of', 'nature', 'nature', 'as', 'a', 'source', 'of', 'inspiration', 'creativity', 'often', 'finds', 'its', 'roots', 'in', 'nature', 'from', 'the', 'exquisite', 'patterns', 'found', 'in', 'a', 'butterflys', 'wings', 'to', 'the', 'rhythm', 'of', 'waves', 'crashing', 'on', 'the', 'shore', 'nature', 'has', 'been', 'a', 'muse', 'for', 'artists', 'writers', 'and', 'scientists', 'for', 'centuries', 'the', 'wonders', 'of', 'the', 'natural', 'world', 'inspire', 'innovation', 'art', 'and', 'the', 'pursuit', 'of', 'knowledge', 'moreover', 'nature', 'provides', 'a', 'wellspring', 'of', 'metaphors', 'and', 'symbols', 'that', 'help', 'us', 'better', 'understand', 'and', 'express', 'the', 'world', 'around', 'us', 'conclusion', 'natures', 'beauty', 'and', 'significance', 'are', 'immeasurable', 'it', 'nurtures', 'us', 'captivates', 'us', 'and', 'inspires', 'us', 'as', 'stewards', 'of', 'this', 'planet', 'it', 'is', 'our', 'responsibility', 'to', 'preserve', 'and', 'protect', 'the', 'natural', 'world', 'for', 'future', 'generations', 'by', 'reconnecting', 'with', 'nature', 'embracing', 'sustainable', 'practices', 'and', 'supporting', 'conservation', 'efforts', 'we', 'can', 'ensure', 'that', 'the', 'splendors', 'of', 'nature', 'continue', 'to', 'enchant', 'and', 'enrich', 'our', 'lives', 'in', 'the', 'end', 'its', 'the', 'incomparable', 'beauty', 'of', 'nature', 'that', 'reminds', 'us', 'of', 'our', 'place', 'in', 'the', 'grand', 'scheme', 'of', 'things', 'and', 'our', 'responsibility', 'to', 'protect', 'it', 'introduction', 'nature', 'in', 'all', 'its', 'splendor', 'is', 'an', 'everinspiring', 'force', 'from', 'the', 'lush', 'green', 'forests', 'to', 'the', 'serene', 'blue', 'oceans', 'from', 'the', 'breathtaking', 'landscapes', 'to', 'the', 'intricate', 'ecosystems', 'nature', 'is', 'a', 'boundless', 'source', 'of', 'wonder', 'and', 'beauty', 'in', 'this', 'blog', 'well', 'delve', 'into', 'the', 'mesmerizing', 'world', 'of', 'nature', 'exploring', 'its', 'importance', 'its', 'impact', 'on', 'our', 'wellbeing', 'and', 'the', 'need', 'to', 'protect', 'and', 'preserve', 'it', 'the', 'wonders', 'of', 'biodiversity', 'one', 'of', 'the', 'most', 'captivating', 'aspects', 'of', 'nature', 'is', 'its', 'incredible', 'biodiversity', 'its', 'a', 'mosaic', 'of', 'life', 'forms', 'from', 'the', 'tiniest', 'microorganisms', 'to', 'the', 'grandest', 'mammals', 'the', 'variety', 'of', 'species', 'and', 'ecosystems', 'found', 'on', 'earth', 'is', 'mindboggling', 'and', 'each', 'has', 'a', 'unique', 'role', 'to', 'play', 'in', 'the', 'intricate', 'web', 'of', 'life', 'whether', 'its', 'the', 'vibrant', 'hues', 'of', 'a', 'coral', 'reef', 'the', 'grace', 'of', 'a', 'deer', 'in', 'the', 'woods', 'or', 'the', 'symphony', 'of', 'birdsong', 'at', 'dawn', 'natures', 'diversity', 'is', 'a', 'constant', 'source', 'of', 'wonder', 'the', 'healing', 'power', 'of', 'nature', 'nature', 'has', 'an', 'exceptional', 'ability', 'to', 'soothe', 'our', 'souls', 'and', 'heal', 'our', 'minds', 'numerous', 'studies', 'have', 'shown', 'that', 'spending', 'time', 'in', 'natural', 'environments', 'reduces', 'stress', 'anxiety', 'and', 'depression', 'the', 'sight', 'of', 'green', 'trees', 'the', 'sound', 'of', 'flowing', 'water', 'and', 'the', 'smell', 'of', 'fresh', 'earth', 'all', 'contribute', 'to', 'a', 'sense', 'of', 'calm', 'and', 'wellbeing', 'this', 'therapeutic', 'quality', 'of', 'nature', 'is', 'why', 'forest', 'bathing', 'has', 'gained', 'popularity', 'as', 'a', 'form', 'of', 'stress', 'relief', 'and', 'mindfulness', 'practice', 'our', 'connection', 'with', 'nature', 'we', 'as', 'humans', 'have', 'an', 'inherent', 'connection', 'with', 'nature', 'one', 'that', 'goes', 'back', 'to', 'our', 'earliest', 'ancestors', 'its', 'no', 'wonder', 'that', 'many', 'ancient', 'cultures', 'revered', 'the', 'natural', 'world', 'and', 'integrated', 'it', 'into', 'their', 'belief', 'systems', 'today', 'this', 'connection', 'is', 'as', 'strong', 'as', 'ever', 'though', 'often', 'overshadowed', 'by', 'our', 'fastpaced', 'urbanized', 'lifestyles', 'yet', 'when', 'we', 'take', 'a', 'step', 'back', 'and', 'truly', 'connect', 'with', 'nature', 'we', 'find', 'ourselves', 'revitalized', 'and', 'reminded', 'of', 'our', 'place', 'in', 'this', 'grand', 'tapestry', 'of', 'life', 'the', 'need', 'for', 'conservation', 'despite', 'the', 'abundant', 'beauty', 'and', 'benefits', 'of', 'nature', 'it', 'is', 'under', 'constant', 'threat', 'human', 'activities', 'such', 'as', 'deforestation', 'pollution', 'and', 'climate', 'change', 'are', 'jeopardizing', 'the', 'delicate', 'balance', 'of', 'our', 'ecosystems', 'its', 'crucial', 'that', 'we', 'recognize', 'the', 'urgent', 'need', 'to', 'protect', 'and', 'conserve', 'the', 'natural', 'world', 'efforts', 'like', 'reforestation', 'wildlife', 'preservation', 'and', 'sustainable', 'practices', 'are', 'essential', 'to', 'ensuring', 'the', 'survival', 'of', 'our', 'planets', 'diverse', 'species', 'and', 'ecosystems', 'the', 'importance', 'of', 'responsible', 'tourism', 'tourism', 'can', 'be', 'a', 'doubleedged', 'sword', 'when', 'it', 'comes', 'to', 'nature', 'while', 'it', 'allows', 'people', 'to', 'appreciate', 'and', 'connect', 'with', 'the', 'beauty', 'of', 'natural', 'environments', 'it', 'can', 'also', 'harm', 'them', 'if', 'not', 'managed', 'responsibly', 'overcrowding', 'littering', 'and', 'habitat', 'destruction', 'are', 'some', 'of', 'the', 'negative', 'consequences', 'of', 'unchecked', 'tourism', 'therefore', 'its', 'essential', 'for', 'travelers', 'to', 'embrace', 'sustainable', 'tourism', 'practices', 'respecting', 'the', 'environment', 'and', 'local', 'communities', 'while', 'enjoying', 'the', 'wonders', 'of', 'nature', 'nature', 'as', 'a', 'source', 'of', 'inspiration', 'creativity', 'often', 'finds', 'its', 'roots', 'in', 'nature', 'from', 'the', 'exquisite', 'patterns', 'found', 'in', 'a', 'butterflys', 'wings', 'to', 'the', 'rhythm', 'of', 'waves', 'crashing', 'on', 'the', 'shore', 'nature', 'has', 'been', 'a', 'muse', 'for', 'artists', 'writers', 'and', 'scientists', 'for', 'centuries', 'the', 'wonders', 'of', 'the', 'natural', 'world', 'inspire', 'innovation', 'art', 'and', 'the', 'pursuit', 'of', 'knowledge', 'moreover', 'nature', 'provides', 'a', 'wellspring', 'of', 'metaphors', 'and', 'symbols', 'that', 'help', 'us', 'better', 'understand', 'and', 'express', 'the', 'world', 'around', 'us', 'conclusion', 'natures', 'beauty', 'and', 'significance', 'are', 'immeasurable', 'it', 'nurtures', 'us', 'captivates', 'us', 'and', 'inspires', 'us', 'as', 'stewards', 'of', 'this', 'planet', 'it', 'is', 'our', 'responsibility', 'to', 'preserve', 'and', 'protect', 'the', 'natural', 'world', 'for', 'future', 'generations', 'by', 'reconnecting', 'with', 'nature', 'embracing', 'sustainable', 'practices', 'and', 'supporting', 'conservation', 'efforts', 'we', 'can', 'ensure', 'that', 'the', 'splendors', 'of', 'nature', 'continue', 'to', 'enchant', 'and', 'enrich', 'our', 'lives', 'in', 'the', 'end', 'its', 'the', 'incomparable', 'beauty', 'of', 'nature', 'that', 'reminds', 'us', 'of', 'our', 'place', 'in', 'the', 'grand', 'scheme', 'of', 'things', 'and', 'our', 'responsibility', 'to', 'protect', 'it']\n"
     ]
    }
   ],
   "source": [
    "translating = str.maketrans('', '', string.punctuation)\n",
    "cleaned_text = text.translate(translating)\n",
    "token = word_tokenize(cleaned_text.lower())\n",
    "\n",
    "#printing the token\n",
    "print(token)"
   ]
  },
  {
   "cell_type": "code",
   "execution_count": 71,
   "id": "d6aa06fb",
   "metadata": {},
   "outputs": [
    {
     "name": "stdout",
     "output_type": "stream",
     "text": [
      "itintroduction->2  introductionnature->3  naturein->3  inall->3  allits->3  itssplendor->3  splendoris->3  isan->3  aneverinspiring->3  everinspiringforce->3  forcefrom->3  thelush->3  lushgreen->3  greenforests->3  foreststo->3  theserene->3  sereneblue->3  blueoceans->3  oceansfrom->3  thebreathtaking->3  breathtakinglandscapes->3  landscapesto->3  intricateecosystems->3  ecosystemsnature->3  aboundless->3  boundlesssource->3  wonderand->3  andbeauty->3  beautyin->3  thisblog->3  blogwell->3  welldelve->3  delveinto->3  intothe->3  themesmerizing->3  mesmerizingworld->3  worldof->3  natureexploring->3  exploringits->3  itsimportance->3  importanceits->3  itsimpact->3  impacton->3  onour->3  ourwellbeing->3  wellbeingand->3  andpreserve->3  preserveit->3  itthe->3  ofbiodiversity->3  biodiversityone->3  oneof->3  themost->3  mostcaptivating->3  captivatingaspects->3  aspectsof->3  isits->3  itsincredible->3  incrediblebiodiversity->3  biodiversityits->3  itsa->3  amosaic->3  mosaicof->3  lifeforms->3  formsfrom->3  thetiniest->3  tiniestmicroorganisms->3  microorganismsto->3  thegrandest->3  grandestmammals->3  mammalsthe->3  thevariety->3  varietyof->3  ofspecies->3  ecosystemsfound->3  foundon->3  onearth->3  earthis->3  ismindboggling->3  mindbogglingand->3  andeach->3  eachhas->3  hasa->3  aunique->3  uniquerole->3  roleto->3  toplay->3  playin->3  intricateweb->3  webof->3  lifewhether->3  whetherits->3  thevibrant->3  vibranthues->3  huesof->3  acoral->3  coralreef->3  reefthe->3  thegrace->3  graceof->3  adeer->3  deerin->3  thewoods->3  woodsor->3  orthe->3  thesymphony->3  symphonyof->3  ofbirdsong->3  birdsongat->3  atdawn->3  dawnnatures->3  naturesdiversity->3  diversityis->3  aconstant->3  constantsource->3  wonderthe->3  thehealing->3  healingpower->3  powerof->3  hasan->3  anexceptional->3  exceptionalability->3  abilityto->3  tosoothe->3  sootheour->3  oursouls->3  soulsand->3  andheal->3  healour->3  ourminds->3  mindsnumerous->3  numerousstudies->3  studieshave->3  haveshown->3  shownthat->3  thatspending->3  spendingtime->3  timein->3  innatural->3  environmentsreduces->3  reducesstress->3  stressanxiety->3  anxietyand->3  anddepression->3  depressionthe->3  thesight->3  sightof->3  ofgreen->3  greentrees->3  treesthe->3  thesound->3  soundof->3  offlowing->3  flowingwater->3  waterand->3  thesmell->3  smellof->3  offresh->3  freshearth->3  earthall->3  allcontribute->3  contributeto->3  toa->3  asense->3  senseof->3  ofcalm->3  calmand->3  andwellbeing->3  wellbeingthis->3  thistherapeutic->3  therapeuticquality->3  qualityof->3  iswhy->3  whyforest->3  forestbathing->3  bathinghas->3  hasgained->3  gainedpopularity->3  popularityas->3  aform->3  formof->3  ofstress->3  stressrelief->3  reliefand->3  andmindfulness->3  mindfulnesspractice->3  practiceour->3  ourconnection->3  weas->3  ashumans->3  humanshave->3  havean->3  aninherent->3  inherentconnection->3  natureone->3  onethat->3  thatgoes->3  goesback->3  backto->3  toour->3  ourearliest->3  earliestancestors->3  ancestorsits->3  itsno->3  nowonder->3  wonderthat->3  thatmany->3  manyancient->3  ancientcultures->3  culturesrevered->3  reveredthe->3  worldand->3  andintegrated->3  integratedit->3  itinto->3  intotheir->3  theirbelief->3  beliefsystems->3  systemstoday->3  todaythis->3  thisconnection->3  connectionis->3  isas->3  asstrong->3  strongas->3  asever->3  everthough->3  thoughoften->3  oftenovershadowed->3  overshadowedby->3  byour->3  ourfastpaced->3  fastpacedurbanized->3  urbanizedlifestyles->3  lifestylesyet->3  yetwhen->3  whenwe->3  wetake->3  takea->3  astep->3  stepback->3  backand->3  andtruly->3  trulyconnect->3  wefind->3  findourselves->3  ourselvesrevitalized->3  revitalizedand->3  andreminded->3  remindedof->3  thisgrand->3  grandtapestry->3  tapestryof->3  lifethe->3  needfor->3  forconservation->3  conservationdespite->3  despitethe->3  theabundant->3  abundantbeauty->3  andbenefits->3  benefitsof->3  natureit->3  isunder->3  underconstant->3  constantthreat->3  threathuman->3  humanactivities->3  activitiessuch->3  suchas->3  asdeforestation->3  deforestationpollution->3  pollutionand->3  andclimate->3  climatechange->3  changeare->3  arejeopardizing->3  jeopardizingthe->3  thedelicate->3  delicatebalance->3  balanceof->3  ourecosystems->3  ecosystemsits->3  itscrucial->3  crucialthat->3  thatwe->3  werecognize->3  recognizethe->3  theurgent->3  urgentneed->3  andconserve->3  conservethe->3  worldefforts->3  effortslike->3  likereforestation->3  reforestationwildlife->3  wildlifepreservation->3  preservationand->3  andsustainable->3  practicesare->3  areessential->3  essentialto->3  toensuring->3  ensuringthe->3  thesurvival->3  survivalof->3  ourplanets->3  planetsdiverse->3  diversespecies->3  ecosystemsthe->3  theimportance->3  importanceof->3  ofresponsible->3  responsibletourism->3  tourismtourism->3  tourismcan->3  canbe->3  bea->3  adoubleedged->3  doubleedgedsword->3  swordwhen->3  whenit->3  itcomes->3  comesto->3  tonature->3  naturewhile->3  whileit->3  itallows->3  allowspeople->3  peopleto->3  toappreciate->3  appreciateand->3  andconnect->3  withthe->3  thebeauty->3  ofnatural->3  environmentsit->3  itcan->3  canalso->3  alsoharm->3  harmthem->3  themif->3  ifnot->3  notmanaged->3  managedresponsibly->3  responsiblyovercrowding->3  overcrowdinglittering->3  litteringand->3  andhabitat->3  habitatdestruction->3  destructionare->3  aresome->3  someof->3  thenegative->3  negativeconsequences->3  consequencesof->3  ofunchecked->3  uncheckedtourism->3  tourismtherefore->3  thereforeits->3  itsessential->3  essentialfor->3  fortravelers->3  travelersto->3  toembrace->3  embracesustainable->3  sustainabletourism->3  tourismpractices->3  practicesrespecting->3  respectingthe->3  theenvironment->3  environmentand->3  andlocal->3  localcommunities->3  communitieswhile->3  whileenjoying->3  enjoyingthe->3  natureas->3  asource->3  ofinspiration->3  inspirationcreativity->3  creativityoften->3  oftenfinds->3  findsits->3  itsroots->3  rootsin->3  innature->3  naturefrom->3  theexquisite->3  exquisitepatterns->3  patternsfound->3  foundin->3  ina->3  abutterflys->3  butterflyswings->3  wingsto->3  therhythm->3  rhythmof->3  ofwaves->3  wavescrashing->3  crashingon->3  onthe->3  theshore->3  shorenature->3  hasbeen->3  beena->3  amuse->3  musefor->3  forartists->3  artistswriters->3  writersand->3  andscientists->3  scientistsfor->3  forcenturies->3  centuriesthe->3  worldinspire->3  inspireinnovation->3  innovationart->3  artand->3  thepursuit->3  pursuitof->3  ofknowledge->3  knowledgemoreover->3  moreovernature->3  natureprovides->3  providesa->3  awellspring->3  wellspringof->3  ofmetaphors->3  metaphorsand->3  andsymbols->3  symbolsthat->3  thathelp->3  helpus->3  usbetter->3  betterunderstand->3  understandand->3  andexpress->3  expressthe->3  theworld->3  worldaround->3  aroundus->3  usconclusion->3  conclusionnatures->3  naturesbeauty->3  andsignificance->3  significanceare->3  areimmeasurable->3  immeasurableit->3  itnurtures->3  nurturesus->3  uscaptivates->3  captivatesus->3  usand->3  andinspires->3  inspiresus->3  usas->3  asstewards->3  stewardsof->3  ofthis->3  thisplanet->3  planetit->3  isour->3  topreserve->3  preserveand->3  andprotect->3  protectthe->3  worldfor->3  forfuture->3  futuregenerations->3  generationsby->3  byreconnecting->3  reconnectingwith->3  natureembracing->3  embracingsustainable->3  practicesand->3  andsupporting->3  supportingconservation->3  conservationefforts->3  effortswe->3  wecan->3  canensure->3  ensurethat->3  thatthe->3  thesplendors->3  splendorsof->3  naturecontinue->3  continueto->3  toenchant->3  enchantand->3  andenrich->3  enrichour->3  ourlives->3  livesin->3  theend->3  endits->3  theincomparable->3  incomparablebeauty->3  naturethat->3  thatreminds->3  remindsus->3  usof->3  thegrand->3  grandscheme->3  schemeof->3  ofthings->3  thingsand->3  andour->3  protectit->3  theintricate->6  isa->6  ofwonder->6  inthis->6  theneed->6  needto->6  protectand->6  speciesand->6  andecosystems->6  itsthe->6  ofa->6  naturenature->6  naturehas->6  naturalenvironments->6  asa->6  connectionwith->6  naturewe->6  connectwith->6  ourplace->6  placein->6  beautyand->6  itis->6  sustainablepractices->6  beautyof->6  ourresponsibility->6  responsibilityto->6  natureis->9  sourceof->9  andthe->9  toprotect->9  thewonders->9  wondersof->9  ofthe->9  oflife->9  fromthe->12  tothe->12  inthe->12  withnature->12  thenatural->12  naturalworld->12  ofour->12  ofnature->24  "
     ]
    }
   ],
   "source": [
    "#FINDING THE FREQ NOW OF PAIRS OF WORDS\n",
    "Elements_count = {}\n",
    "for i in range(len(token)):\n",
    "    if(i != len(token)-1):\n",
    "        a = token[i]+token[i+1]\n",
    "        if a in Elements_count:\n",
    "            Elements_count[a] += 1\n",
    "        else:\n",
    "            Elements_count[a] = 1\n",
    "            \n",
    "#SORTING THE DICTIONARY\n",
    "sorted_dict = dict(sorted(Elements_count .items(), key=lambda item: item[1]))\n",
    "\n",
    "#PRINTING THE DICTIONARY\n",
    "for key, value in sorted_dict.items():\n",
    "   print(f\"{key}->{value}\",end='  ')"
   ]
  },
  {
   "cell_type": "code",
   "execution_count": 72,
   "id": "dd9c0976",
   "metadata": {},
   "outputs": [
    {
     "name": "stdout",
     "output_type": "stream",
     "text": [
      "The number of times 'of' has come: 117\n"
     ]
    }
   ],
   "source": [
    "#NOW FINDING HOW MANY TIMES 'of' HAS COME\n",
    "of_count = 0\n",
    "for j in range(len(token)):\n",
    "    if token[j] == 'of':\n",
    "        of_count +=1\n",
    "print(\"The number of times \\'of\\' has come:\",of_count)"
   ]
  },
  {
   "cell_type": "code",
   "execution_count": 79,
   "id": "b5ef6408",
   "metadata": {},
   "outputs": [
    {
     "name": "stdout",
     "output_type": "stream",
     "text": [
      "The number of times 'from' has come: 12\n"
     ]
    }
   ],
   "source": [
    "#SIMILARLY FINDING FOR 'from'\n",
    "from_count = 0\n",
    "for j in range(len(token)):\n",
    "    if token[j] == 'from':\n",
    "        from_count +=1\n",
    "print(\"The number of times \\'from\\' has come:\",from_count)"
   ]
  },
  {
   "cell_type": "code",
   "execution_count": 80,
   "id": "146d68c8",
   "metadata": {},
   "outputs": [
    {
     "name": "stdout",
     "output_type": "stream",
     "text": [
      "The number of times 'protect' has come: 12\n"
     ]
    }
   ],
   "source": [
    "#SIMILARLY FINDING FOR 'protect'\n",
    "protect_count = 0\n",
    "for j in range(len(token)):\n",
    "    if token[j] == 'protect':\n",
    "        protect_count +=1\n",
    "print(\"The number of times \\'protect\\' has come:\",protect_count)"
   ]
  },
  {
   "cell_type": "code",
   "execution_count": 81,
   "id": "b3f17e16",
   "metadata": {
    "scrolled": true
   },
   "outputs": [
    {
     "name": "stdout",
     "output_type": "stream",
     "text": [
      "Total count of toekn : 1863\n"
     ]
    }
   ],
   "source": [
    "#TOTAL NUMBER OF WORDS\n",
    "total_count = len(token)\n",
    "print(\"Total count of toekn :\",total_count)"
   ]
  },
  {
   "cell_type": "code",
   "execution_count": 84,
   "id": "6463465e",
   "metadata": {},
   "outputs": [
    {
     "name": "stdout",
     "output_type": "stream",
     "text": [
      "1.0\n",
      "0.25\n",
      "0.75\n",
      "The Result :  3.0\n",
      "Therefore it is with \"from\"\n"
     ]
    }
   ],
   "source": [
    "#Hindle and Rooth\n",
    "p1 = 12/from_count\n",
    "p2 = 3/protect_count\n",
    "np2 = 1-p2\n",
    "print(p1)\n",
    "print(p2)\n",
    "print(np2)\n",
    "print(\"The Result : \",(p1*np2)/p2)\n",
    "print(\"Therefore it is with \\\"from\\\"\")"
   ]
  },
  {
   "cell_type": "code",
   "execution_count": null,
   "id": "c83cbbf0",
   "metadata": {},
   "outputs": [],
   "source": []
  }
 ],
 "metadata": {
  "kernelspec": {
   "display_name": "Python 3",
   "language": "python",
   "name": "python3"
  },
  "language_info": {
   "codemirror_mode": {
    "name": "ipython",
    "version": 3
   },
   "file_extension": ".py",
   "mimetype": "text/x-python",
   "name": "python",
   "nbconvert_exporter": "python",
   "pygments_lexer": "ipython3",
   "version": "3.8.8"
  }
 },
 "nbformat": 4,
 "nbformat_minor": 5
}
