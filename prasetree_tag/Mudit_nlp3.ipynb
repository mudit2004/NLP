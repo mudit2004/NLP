{
 "cells": [
  {
   "cell_type": "markdown",
   "id": "f4e66b12",
   "metadata": {},
   "source": [
    "# LAB-3\n",
    "\n",
    "# 16.08.2023\n",
    "\n",
    "# EXP-1"
   ]
  },
  {
   "cell_type": "code",
   "execution_count": 2,
   "id": "9210eb53",
   "metadata": {},
   "outputs": [
    {
     "name": "stdout",
     "output_type": "stream",
     "text": [
      "(s (dp (d the) (np dog)) (vp (v chased) (dp (d the) (np cat))))\n"
     ]
    }
   ],
   "source": [
    "from nltk.tree import *\n",
    "dp1 = Tree('dp', [Tree('d', ['the']), Tree('np', ['dog'])])\n",
    "dp2 = Tree('dp', [Tree('d', ['the']), Tree('np', ['cat'])])\n",
    "vp = Tree('vp', [Tree('v', ['chased']), dp2])\n",
    "tree = Tree('s', [dp1, vp])\n",
    "print(tree)"
   ]
  },
  {
   "cell_type": "code",
   "execution_count": 3,
   "id": "9b05ff28",
   "metadata": {},
   "outputs": [
    {
     "data": {
      "text/plain": [
       "('dp', 'dp', 'vp', 's')"
      ]
     },
     "execution_count": 3,
     "metadata": {},
     "output_type": "execute_result"
    }
   ],
   "source": [
    "dp1.label(), dp2.label(), vp.label(), tree.label()"
   ]
  },
  {
   "cell_type": "code",
   "execution_count": 4,
   "id": "a24d15b5",
   "metadata": {},
   "outputs": [
    {
     "name": "stdout",
     "output_type": "stream",
     "text": [
      "cat\n"
     ]
    }
   ],
   "source": [
    "print(tree[1,1,1,0])\n"
   ]
  },
  {
   "cell_type": "code",
   "execution_count": 5,
   "id": "0e9da2c0",
   "metadata": {},
   "outputs": [
    {
     "name": "stdout",
     "output_type": "stream",
     "text": [
      "              s               \n",
      "      ________|_____           \n",
      "     |              vp        \n",
      "     |         _____|___       \n",
      "     dp       |         dp    \n",
      "  ___|___     |      ___|___   \n",
      " d       np   v     d       np\n",
      " |       |    |     |       |  \n",
      "the     dog chased the     cat\n",
      "\n"
     ]
    }
   ],
   "source": [
    "tree.pretty_print()"
   ]
  },
  {
   "cell_type": "code",
   "execution_count": 6,
   "id": "05bbf453",
   "metadata": {},
   "outputs": [
    {
     "name": "stdout",
     "output_type": "stream",
     "text": [
      "                       s                        \n",
      "        ┌──────────────┴────────┐                   \n",
      "        │                       vp              \n",
      "        │              ┌────────┴──────┐            \n",
      "        dp             │               dp       \n",
      " ┌──────┴──────┐       │        ┌──────┴──────┐     \n",
      " d             np      v        d             np\n",
      " │             │       │        │             │     \n",
      "the           dog    chased    the           cat\n",
      "\n"
     ]
    }
   ],
   "source": [
    "tree.pretty_print(unicodelines=True, nodedist=4)"
   ]
  },
  {
   "cell_type": "code",
   "execution_count": 11,
   "id": "27e6c894",
   "metadata": {},
   "outputs": [
    {
     "name": "stdout",
     "output_type": "stream",
     "text": [
      "                         S                                  \n",
      " ┌───────────────────────┴─────────┐                               \n",
      " │                                 VP                       \n",
      " │           ┌─────────────────────┴─────────┐                     \n",
      " NP          V                               NP             \n",
      " │           │                     ┌─────────┴──────────┐          \n",
      " I        enjoyed                  my                 cookie\n",
      "\n"
     ]
    }
   ],
   "source": [
    "tree = Tree.fromstring('(S (NP I) (VP (V enjoyed) (NP my cookie)))')\n",
    "tree.pretty_print(unicodelines = True, nodedist = 7 )"
   ]
  },
  {
   "cell_type": "code",
   "execution_count": 12,
   "id": "248c584d",
   "metadata": {},
   "outputs": [
    {
     "name": "stdout",
     "output_type": "stream",
     "text": [
      "                                   S                                  \n",
      "            ┌──────────────────────┴────────────────────┐                    \n",
      "            NP                                          VP            \n",
      " ┌──────────┴──────────┐                     ┌──────────┴──────────┐         \n",
      " NP                    NP                    │                     NP \n",
      " │                     │                     │                     │         \n",
      " N                     N                     V                     N  \n",
      " │                     │                     │                     │         \n",
      "fish                 poeple                 fish                 tanks\n",
      "\n"
     ]
    }
   ],
   "source": [
    "tree = Tree.fromstring('(S(NP(NP(N fish))(NP(N poeple)))(VP(V fish)(NP(N tanks))))')\n",
    "tree.pretty_print(unicodelines = True, nodedist = 7 )"
   ]
  },
  {
   "cell_type": "code",
   "execution_count": 37,
   "id": "77c16b2e",
   "metadata": {},
   "outputs": [
    {
     "name": "stdout",
     "output_type": "stream",
     "text": [
      "PERSON --> SirAbdulKalam\n",
      "ORGANIZATION --> DefenseResearch\n",
      "ORGANIZATION --> DevelopmentOrganization\n",
      "GPE --> Indian\n",
      "ORGANIZATION --> SpaceResearchOrganization\n",
      "GPE --> Indian\n",
      "ORGANIZATION --> SpaceResearchOrganization\n",
      "PERSON --> PokhranIINuclearTest\n",
      "ORGANIZATION --> Rohini\n",
      "GPE --> India\n",
      "ORGANIZATION --> International\n",
      "PERSON --> RocketMan\n",
      "GPE --> India\n"
     ]
    }
   ],
   "source": [
    "import nltk\n",
    "import string\n",
    "text = \"As a scientist and specialist, Sir Abdul Kalam took a shot at a few significant projects of the Defense Research and Development Organization (DRDO) and Indian Space Research Organization (ISRO). He began working with the Indian Space Research Organization (ISRO) since 1972. He was additionally a significant part of Pokhran II Nuclear Test in 1998.In 1980, he put the Rohini satellite close to the Earth’s circle which caused India to be a member from the International Club. He had structured the indigenous objective entering controlled rocket (Guided Missiles). He is worldwide renowned as the ‘Rocket Man of India’ for his extraordinary work in space science\"\n",
    "translating = str.maketrans('', '', string.punctuation)\n",
    "\n",
    "S= text.translate(translating)\n",
    "\n",
    "tokens = nltk.word_tokenize(S)\n",
    "\n",
    "tagged = nltk.pos_tag(tokens)\n",
    "\n",
    "entities = nltk.chunk.ne_chunk(tagged)\n",
    "\n",
    "\n",
    "\n",
    "for entity in entities:\n",
    "    if hasattr(entity, 'label') and entity.label() == 'ORGANIZATION':\n",
    "        print(entity.label(),'-->', ''.join(c[0] for c in entity))\n",
    "    elif hasattr(entity, 'label') and entity.label() == 'GPE':\n",
    "        print(entity.label(), '-->',''.join(c[0] for c in entity))\n",
    "    elif hasattr(entity,'label') and entity.label() == 'PERSON':\n",
    "        print(entity.label(), '-->',''.join(c[0] for c in entity))"
   ]
  },
  {
   "cell_type": "code",
   "execution_count": null,
   "id": "f5f2d425",
   "metadata": {},
   "outputs": [],
   "source": []
  }
 ],
 "metadata": {
  "kernelspec": {
   "display_name": "Python 3",
   "language": "python",
   "name": "python3"
  },
  "language_info": {
   "codemirror_mode": {
    "name": "ipython",
    "version": 3
   },
   "file_extension": ".py",
   "mimetype": "text/x-python",
   "name": "python",
   "nbconvert_exporter": "python",
   "pygments_lexer": "ipython3",
   "version": "3.8.8"
  }
 },
 "nbformat": 4,
 "nbformat_minor": 5
}
